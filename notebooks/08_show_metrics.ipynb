{
 "cells": [
  {
   "cell_type": "code",
   "execution_count": 2,
   "metadata": {},
   "outputs": [],
   "source": [
    "import pandas as pd"
   ]
  },
  {
   "cell_type": "code",
   "execution_count": 3,
   "metadata": {},
   "outputs": [],
   "source": [
    "df = pd.read_csv(\"../models/experiment_tracker.csv\")"
   ]
  },
  {
   "cell_type": "code",
   "execution_count": 5,
   "metadata": {},
   "outputs": [
    {
     "data": {
      "text/html": [
       "<div>\n",
       "<style scoped>\n",
       "    .dataframe tbody tr th:only-of-type {\n",
       "        vertical-align: middle;\n",
       "    }\n",
       "\n",
       "    .dataframe tbody tr th {\n",
       "        vertical-align: top;\n",
       "    }\n",
       "\n",
       "    .dataframe thead th {\n",
       "        text-align: right;\n",
       "    }\n",
       "</style>\n",
       "<table border=\"1\" class=\"dataframe\">\n",
       "  <thead>\n",
       "    <tr style=\"text-align: right;\">\n",
       "      <th></th>\n",
       "      <th>Timestamp</th>\n",
       "      <th>Model Name</th>\n",
       "      <th>Parameters</th>\n",
       "      <th>Comments</th>\n",
       "      <th>Class 0 Precision</th>\n",
       "      <th>Class 0 Recall</th>\n",
       "      <th>Class 0 F1-Score</th>\n",
       "      <th>Class 0 Support</th>\n",
       "      <th>Confusion Matrix</th>\n",
       "    </tr>\n",
       "  </thead>\n",
       "  <tbody>\n",
       "    <tr>\n",
       "      <th>0</th>\n",
       "      <td>2025-01-12 21:31:07</td>\n",
       "      <td>Logistic Regression</td>\n",
       "      <td>{'max_iter': 1000, 'class_weight': 'balanced'}</td>\n",
       "      <td>NaN</td>\n",
       "      <td>0.277027</td>\n",
       "      <td>0.719298</td>\n",
       "      <td>0.400000</td>\n",
       "      <td>57.0</td>\n",
       "      <td>[[41, 16], [107, 149]]</td>\n",
       "    </tr>\n",
       "    <tr>\n",
       "      <th>1</th>\n",
       "      <td>2025-01-18 22:28:12</td>\n",
       "      <td>Logistic Regression</td>\n",
       "      <td>{'max_iter': 1000, 'class_weight': 'balanced'}</td>\n",
       "      <td>NaN</td>\n",
       "      <td>0.277027</td>\n",
       "      <td>0.719298</td>\n",
       "      <td>0.400000</td>\n",
       "      <td>57.0</td>\n",
       "      <td>[[41, 16], [107, 149]]</td>\n",
       "    </tr>\n",
       "    <tr>\n",
       "      <th>2</th>\n",
       "      <td>2025-01-18 22:52:22</td>\n",
       "      <td>XGBoost</td>\n",
       "      <td>{'learning_rate': np.float64(0.094326036274419...</td>\n",
       "      <td>NaN</td>\n",
       "      <td>0.640000</td>\n",
       "      <td>0.280702</td>\n",
       "      <td>0.390244</td>\n",
       "      <td>57.0</td>\n",
       "      <td>[[16, 41], [9, 247]]</td>\n",
       "    </tr>\n",
       "  </tbody>\n",
       "</table>\n",
       "</div>"
      ],
      "text/plain": [
       "             Timestamp           Model Name  \\\n",
       "0  2025-01-12 21:31:07  Logistic Regression   \n",
       "1  2025-01-18 22:28:12  Logistic Regression   \n",
       "2  2025-01-18 22:52:22              XGBoost   \n",
       "\n",
       "                                          Parameters  Comments  \\\n",
       "0     {'max_iter': 1000, 'class_weight': 'balanced'}       NaN   \n",
       "1     {'max_iter': 1000, 'class_weight': 'balanced'}       NaN   \n",
       "2  {'learning_rate': np.float64(0.094326036274419...       NaN   \n",
       "\n",
       "   Class 0 Precision  Class 0 Recall  Class 0 F1-Score  Class 0 Support  \\\n",
       "0           0.277027        0.719298          0.400000             57.0   \n",
       "1           0.277027        0.719298          0.400000             57.0   \n",
       "2           0.640000        0.280702          0.390244             57.0   \n",
       "\n",
       "         Confusion Matrix  \n",
       "0  [[41, 16], [107, 149]]  \n",
       "1  [[41, 16], [107, 149]]  \n",
       "2    [[16, 41], [9, 247]]  "
      ]
     },
     "execution_count": 5,
     "metadata": {},
     "output_type": "execute_result"
    }
   ],
   "source": [
    "df"
   ]
  },
  {
   "cell_type": "code",
   "execution_count": null,
   "metadata": {},
   "outputs": [],
   "source": []
  }
 ],
 "metadata": {
  "kernelspec": {
   "display_name": ".venv",
   "language": "python",
   "name": "python3"
  },
  "language_info": {
   "codemirror_mode": {
    "name": "ipython",
    "version": 3
   },
   "file_extension": ".py",
   "mimetype": "text/x-python",
   "name": "python",
   "nbconvert_exporter": "python",
   "pygments_lexer": "ipython3",
   "version": "3.12.0"
  }
 },
 "nbformat": 4,
 "nbformat_minor": 2
}
