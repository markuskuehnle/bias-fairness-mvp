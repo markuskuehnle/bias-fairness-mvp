{
 "cells": [
  {
   "cell_type": "markdown",
   "metadata": {},
   "source": [
    "# 12 - Create Static Data for App MVP"
   ]
  },
  {
   "cell_type": "markdown",
   "metadata": {},
   "source": [
    "This notebook creates a static dataset for the app MVP by selecting specific rows from the test and HR datasets. The final combined dataset includes candidate details and is saved as a Parquet file for use in the app backend."
   ]
  },
  {
   "cell_type": "code",
   "execution_count": 2,
   "metadata": {},
   "outputs": [],
   "source": [
    "import pandas as pd"
   ]
  },
  {
   "cell_type": "code",
   "execution_count": 3,
   "metadata": {},
   "outputs": [],
   "source": [
    "# Display all rows and columns\n",
    "pd.set_option('display.max_colwidth', None)  # Show full content in each cell\n",
    "pd.set_option('display.max_rows', None)      # Show all rows\n",
    "pd.set_option('display.max_columns', None)   # Show all columns"
   ]
  },
  {
   "cell_type": "code",
   "execution_count": 4,
   "metadata": {},
   "outputs": [],
   "source": [
    "df = pd.read_parquet(\"../data/processed/X_test.parquet\")"
   ]
  },
  {
   "cell_type": "code",
   "execution_count": 5,
   "metadata": {},
   "outputs": [],
   "source": [
    "row_indices = [323, 925, 1023]  # Indices to select\n",
    "selected_rows = df.loc[row_indices]"
   ]
  },
  {
   "cell_type": "code",
   "execution_count": 7,
   "metadata": {},
   "outputs": [],
   "source": [
    "hr_data = pd.read_parquet(\"../data/interim/hr_data_simulated.parquet\")\n",
    "hr_selected_rows = hr_data.loc[row_indices]"
   ]
  },
  {
   "cell_type": "code",
   "execution_count": 8,
   "metadata": {},
   "outputs": [
    {
     "data": {
      "text/plain": [
       "323     Mccullough, Quinn\n",
       "925        Hodge, Aaliyah\n",
       "1023      Mercado, Emmett\n",
       "Name: Employee_Name, dtype: object"
      ]
     },
     "execution_count": 8,
     "metadata": {},
     "output_type": "execute_result"
    }
   ],
   "source": [
    "hr_selected_rows[\"Employee_Name\"]"
   ]
  },
  {
   "cell_type": "code",
   "execution_count": 9,
   "metadata": {},
   "outputs": [],
   "source": [
    "# Drop 'probability' from selected_rows if it exists\n",
    "if 'probability' in selected_rows.columns:\n",
    "    selected_rows.drop(columns='probability', inplace=True)\n",
    "\n",
    "# Select rows by indices in HR data\n",
    "hr_selected_rows = hr_data.loc[row_indices]\n",
    "hr_selected_rows = hr_selected_rows[\"Employee_Name\"]\n",
    "\n",
    "# Concatenate along columns (axis 1)\n",
    "combined_rows = pd.concat([selected_rows, hr_selected_rows], axis=1)"
   ]
  },
  {
   "cell_type": "code",
   "execution_count": 11,
   "metadata": {},
   "outputs": [
    {
     "name": "stdout",
     "output_type": "stream",
     "text": [
      "   candidate_id      Employee_Name\n",
      "0           323  Mccullough, Quinn\n",
      "1           925     Hodge, Aaliyah\n",
      "2          1023    Mercado, Emmett\n"
     ]
    }
   ],
   "source": [
    "# Reset the index and add it as a new column named 'candidate_id'\n",
    "hr_selected_rows = hr_selected_rows.reset_index().rename(columns={\"index\": \"Candidate_ID\"})\n",
    "\n",
    "# Display the updated DataFrame\n",
    "print(hr_selected_rows.head())"
   ]
  },
  {
   "cell_type": "code",
   "execution_count": 12,
   "metadata": {},
   "outputs": [],
   "source": [
    "# Save the selected rows to a new parquet file without index\n",
    "combined_rows.to_parquet(\"../data/app/static_data.parquet\", index=False)"
   ]
  },
  {
   "cell_type": "code",
   "execution_count": 13,
   "metadata": {},
   "outputs": [],
   "source": [
    "combined_rows.to_parquet(\"../app/data/static_data.parquet\", index=False)"
   ]
  }
 ],
 "metadata": {
  "kernelspec": {
   "display_name": ".venv",
   "language": "python",
   "name": "python3"
  },
  "language_info": {
   "codemirror_mode": {
    "name": "ipython",
    "version": 3
   },
   "file_extension": ".py",
   "mimetype": "text/x-python",
   "name": "python",
   "nbconvert_exporter": "python",
   "pygments_lexer": "ipython3",
   "version": "3.12.0"
  }
 },
 "nbformat": 4,
 "nbformat_minor": 2
}
